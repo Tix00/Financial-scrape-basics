{
 "cells": [
  {
   "cell_type": "markdown",
   "id": "e149494d",
   "metadata": {},
   "source": [
    "# Install the dependencies"
   ]
  },
  {
   "cell_type": "markdown",
   "id": "eaf5a889",
   "metadata": {},
   "source": [
    "### Open cmd in the directory project and run this comand:\n"
   ]
  },
  {
   "cell_type": "markdown",
   "id": "db336fde",
   "metadata": {},
   "source": [
    "pip install -r requirements.txt"
   ]
  },
  {
   "cell_type": "markdown",
   "id": "d917f554",
   "metadata": {},
   "source": [
    "# Set up your libraries"
   ]
  },
  {
   "cell_type": "code",
   "execution_count": 1,
   "id": "8e3c479f",
   "metadata": {},
   "outputs": [],
   "source": [
    "import pandas as pd\n",
    "import pandas_datareader.data as web\n",
    "import matplotlib.pyplot as plt\n",
    "\n",
    "start_date = '2020-01-01'\n",
    "end_date = '2022-02-14'"
   ]
  },
  {
   "cell_type": "markdown",
   "id": "0908e02e",
   "metadata": {},
   "source": [
    "# Chose your stocks"
   ]
  },
  {
   "cell_type": "code",
   "execution_count": 2,
   "id": "226e5ff5",
   "metadata": {},
   "outputs": [],
   "source": [
    "AMZN = web.get_data_yahoo('AMZN', start_date, end_date)\n",
    "AMZN = AMZN.groupby(pd.Grouper(freq='M')).mean()\n",
    "\n",
    "AAPL = web.get_data_yahoo('AAPL', start_date, end_date)\n",
    "AAPL = AAPL.groupby(pd.Grouper(freq='M')).mean()\n",
    "\n",
    "GOOG = web.get_data_yahoo('GOOG', start_date, end_date)\n",
    "GOOG = GOOG.groupby(pd.Grouper(freq='M')).mean()"
   ]
  },
  {
   "cell_type": "markdown",
   "id": "cfd96161",
   "metadata": {},
   "source": [
    "# Get the raw data"
   ]
  },
  {
   "cell_type": "code",
   "execution_count": 3,
   "id": "5e43b206",
   "metadata": {},
   "outputs": [
    {
     "data": {
      "text/html": [
       "<div>\n",
       "<style scoped>\n",
       "    .dataframe tbody tr th:only-of-type {\n",
       "        vertical-align: middle;\n",
       "    }\n",
       "\n",
       "    .dataframe tbody tr th {\n",
       "        vertical-align: top;\n",
       "    }\n",
       "\n",
       "    .dataframe thead th {\n",
       "        text-align: right;\n",
       "    }\n",
       "</style>\n",
       "<table border=\"1\" class=\"dataframe\">\n",
       "  <thead>\n",
       "    <tr style=\"text-align: right;\">\n",
       "      <th></th>\n",
       "      <th>High</th>\n",
       "      <th>Low</th>\n",
       "      <th>Open</th>\n",
       "      <th>Close</th>\n",
       "      <th>Volume</th>\n",
       "      <th>Adj Close</th>\n",
       "    </tr>\n",
       "    <tr>\n",
       "      <th>Date</th>\n",
       "      <th></th>\n",
       "      <th></th>\n",
       "      <th></th>\n",
       "      <th></th>\n",
       "      <th></th>\n",
       "      <th></th>\n",
       "    </tr>\n",
       "  </thead>\n",
       "  <tbody>\n",
       "    <tr>\n",
       "      <th>2020-01-31</th>\n",
       "      <td>78.581547</td>\n",
       "      <td>77.207857</td>\n",
       "      <td>77.792738</td>\n",
       "      <td>77.979048</td>\n",
       "      <td>1.397319e+08</td>\n",
       "      <td>76.739925</td>\n",
       "    </tr>\n",
       "    <tr>\n",
       "      <th>2020-02-29</th>\n",
       "      <td>78.813158</td>\n",
       "      <td>76.681579</td>\n",
       "      <td>77.578421</td>\n",
       "      <td>77.817631</td>\n",
       "      <td>1.589094e+08</td>\n",
       "      <td>76.723664</td>\n",
       "    </tr>\n",
       "    <tr>\n",
       "      <th>2020-03-31</th>\n",
       "      <td>67.423181</td>\n",
       "      <td>63.711591</td>\n",
       "      <td>65.268410</td>\n",
       "      <td>65.611023</td>\n",
       "      <td>2.854578e+08</td>\n",
       "      <td>64.721672</td>\n",
       "    </tr>\n",
       "    <tr>\n",
       "      <th>2020-04-30</th>\n",
       "      <td>68.945357</td>\n",
       "      <td>67.021072</td>\n",
       "      <td>67.952857</td>\n",
       "      <td>68.096547</td>\n",
       "      <td>1.554904e+08</td>\n",
       "      <td>67.173506</td>\n",
       "    </tr>\n",
       "    <tr>\n",
       "      <th>2020-05-31</th>\n",
       "      <td>78.312875</td>\n",
       "      <td>76.595250</td>\n",
       "      <td>77.221375</td>\n",
       "      <td>77.496376</td>\n",
       "      <td>1.402968e+08</td>\n",
       "      <td>76.603319</td>\n",
       "    </tr>\n",
       "  </tbody>\n",
       "</table>\n",
       "</div>"
      ],
      "text/plain": [
       "                 High        Low       Open      Close        Volume  \\\n",
       "Date                                                                   \n",
       "2020-01-31  78.581547  77.207857  77.792738  77.979048  1.397319e+08   \n",
       "2020-02-29  78.813158  76.681579  77.578421  77.817631  1.589094e+08   \n",
       "2020-03-31  67.423181  63.711591  65.268410  65.611023  2.854578e+08   \n",
       "2020-04-30  68.945357  67.021072  67.952857  68.096547  1.554904e+08   \n",
       "2020-05-31  78.312875  76.595250  77.221375  77.496376  1.402968e+08   \n",
       "\n",
       "            Adj Close  \n",
       "Date                   \n",
       "2020-01-31  76.739925  \n",
       "2020-02-29  76.723664  \n",
       "2020-03-31  64.721672  \n",
       "2020-04-30  67.173506  \n",
       "2020-05-31  76.603319  "
      ]
     },
     "execution_count": 3,
     "metadata": {},
     "output_type": "execute_result"
    }
   ],
   "source": [
    "AAPL.head()"
   ]
  },
  {
   "cell_type": "code",
   "execution_count": 4,
   "id": "08de95e4",
   "metadata": {},
   "outputs": [
    {
     "data": {
      "text/html": [
       "<div>\n",
       "<style scoped>\n",
       "    .dataframe tbody tr th:only-of-type {\n",
       "        vertical-align: middle;\n",
       "    }\n",
       "\n",
       "    .dataframe tbody tr th {\n",
       "        vertical-align: top;\n",
       "    }\n",
       "\n",
       "    .dataframe thead th {\n",
       "        text-align: right;\n",
       "    }\n",
       "</style>\n",
       "<table border=\"1\" class=\"dataframe\">\n",
       "  <thead>\n",
       "    <tr style=\"text-align: right;\">\n",
       "      <th></th>\n",
       "      <th>High</th>\n",
       "      <th>Low</th>\n",
       "      <th>Open</th>\n",
       "      <th>Close</th>\n",
       "      <th>Volume</th>\n",
       "      <th>Adj Close</th>\n",
       "    </tr>\n",
       "    <tr>\n",
       "      <th>Date</th>\n",
       "      <th></th>\n",
       "      <th></th>\n",
       "      <th></th>\n",
       "      <th></th>\n",
       "      <th></th>\n",
       "      <th></th>\n",
       "    </tr>\n",
       "  </thead>\n",
       "  <tbody>\n",
       "    <tr>\n",
       "      <th>2020-01-31</th>\n",
       "      <td>1444.950381</td>\n",
       "      <td>1423.785424</td>\n",
       "      <td>1432.679519</td>\n",
       "      <td>1436.653797</td>\n",
       "      <td>1.604362e+06</td>\n",
       "      <td>1436.653797</td>\n",
       "    </tr>\n",
       "    <tr>\n",
       "      <th>2020-02-29</th>\n",
       "      <td>1479.377358</td>\n",
       "      <td>1448.104621</td>\n",
       "      <td>1462.785786</td>\n",
       "      <td>1464.110519</td>\n",
       "      <td>1.951611e+06</td>\n",
       "      <td>1464.110519</td>\n",
       "    </tr>\n",
       "    <tr>\n",
       "      <th>2020-03-31</th>\n",
       "      <td>1216.323952</td>\n",
       "      <td>1151.405090</td>\n",
       "      <td>1183.330916</td>\n",
       "      <td>1188.394098</td>\n",
       "      <td>3.245095e+06</td>\n",
       "      <td>1188.394098</td>\n",
       "    </tr>\n",
       "    <tr>\n",
       "      <th>2020-04-30</th>\n",
       "      <td>1252.050618</td>\n",
       "      <td>1215.606329</td>\n",
       "      <td>1234.962623</td>\n",
       "      <td>1234.140480</td>\n",
       "      <td>2.206433e+06</td>\n",
       "      <td>1234.140480</td>\n",
       "    </tr>\n",
       "    <tr>\n",
       "      <th>2020-05-31</th>\n",
       "      <td>1395.460345</td>\n",
       "      <td>1364.088348</td>\n",
       "      <td>1377.211841</td>\n",
       "      <td>1381.113751</td>\n",
       "      <td>1.593315e+06</td>\n",
       "      <td>1381.113751</td>\n",
       "    </tr>\n",
       "  </tbody>\n",
       "</table>\n",
       "</div>"
      ],
      "text/plain": [
       "                   High          Low         Open        Close        Volume  \\\n",
       "Date                                                                           \n",
       "2020-01-31  1444.950381  1423.785424  1432.679519  1436.653797  1.604362e+06   \n",
       "2020-02-29  1479.377358  1448.104621  1462.785786  1464.110519  1.951611e+06   \n",
       "2020-03-31  1216.323952  1151.405090  1183.330916  1188.394098  3.245095e+06   \n",
       "2020-04-30  1252.050618  1215.606329  1234.962623  1234.140480  2.206433e+06   \n",
       "2020-05-31  1395.460345  1364.088348  1377.211841  1381.113751  1.593315e+06   \n",
       "\n",
       "              Adj Close  \n",
       "Date                     \n",
       "2020-01-31  1436.653797  \n",
       "2020-02-29  1464.110519  \n",
       "2020-03-31  1188.394098  \n",
       "2020-04-30  1234.140480  \n",
       "2020-05-31  1381.113751  "
      ]
     },
     "execution_count": 4,
     "metadata": {},
     "output_type": "execute_result"
    }
   ],
   "source": [
    "GOOG.head()"
   ]
  },
  {
   "cell_type": "code",
   "execution_count": 5,
   "id": "3f1dd8fb",
   "metadata": {
    "scrolled": true
   },
   "outputs": [
    {
     "data": {
      "text/html": [
       "<div>\n",
       "<style scoped>\n",
       "    .dataframe tbody tr th:only-of-type {\n",
       "        vertical-align: middle;\n",
       "    }\n",
       "\n",
       "    .dataframe tbody tr th {\n",
       "        vertical-align: top;\n",
       "    }\n",
       "\n",
       "    .dataframe thead th {\n",
       "        text-align: right;\n",
       "    }\n",
       "</style>\n",
       "<table border=\"1\" class=\"dataframe\">\n",
       "  <thead>\n",
       "    <tr style=\"text-align: right;\">\n",
       "      <th></th>\n",
       "      <th>High</th>\n",
       "      <th>Low</th>\n",
       "      <th>Open</th>\n",
       "      <th>Close</th>\n",
       "      <th>Volume</th>\n",
       "      <th>Adj Close</th>\n",
       "    </tr>\n",
       "    <tr>\n",
       "      <th>Date</th>\n",
       "      <th></th>\n",
       "      <th></th>\n",
       "      <th></th>\n",
       "      <th></th>\n",
       "      <th></th>\n",
       "      <th></th>\n",
       "    </tr>\n",
       "  </thead>\n",
       "  <tbody>\n",
       "    <tr>\n",
       "      <th>2020-01-31</th>\n",
       "      <td>1897.997128</td>\n",
       "      <td>1870.354289</td>\n",
       "      <td>1886.055240</td>\n",
       "      <td>1884.237613</td>\n",
       "      <td>4.033252e+06</td>\n",
       "      <td>1884.237613</td>\n",
       "    </tr>\n",
       "    <tr>\n",
       "      <th>2020-02-29</th>\n",
       "      <td>2094.268979</td>\n",
       "      <td>2045.056319</td>\n",
       "      <td>2065.853683</td>\n",
       "      <td>2066.175267</td>\n",
       "      <td>4.868953e+06</td>\n",
       "      <td>2066.175267</td>\n",
       "    </tr>\n",
       "    <tr>\n",
       "      <th>2020-03-31</th>\n",
       "      <td>1910.390004</td>\n",
       "      <td>1825.159096</td>\n",
       "      <td>1863.148626</td>\n",
       "      <td>1872.310436</td>\n",
       "      <td>7.445868e+06</td>\n",
       "      <td>1872.310436</td>\n",
       "    </tr>\n",
       "    <tr>\n",
       "      <th>2020-04-30</th>\n",
       "      <td>2256.839989</td>\n",
       "      <td>2185.934768</td>\n",
       "      <td>2216.111439</td>\n",
       "      <td>2228.705241</td>\n",
       "      <td>5.933800e+06</td>\n",
       "      <td>2228.705241</td>\n",
       "    </tr>\n",
       "    <tr>\n",
       "      <th>2020-05-31</th>\n",
       "      <td>2418.904004</td>\n",
       "      <td>2364.485498</td>\n",
       "      <td>2391.137012</td>\n",
       "      <td>2394.184021</td>\n",
       "      <td>4.129220e+06</td>\n",
       "      <td>2394.184021</td>\n",
       "    </tr>\n",
       "  </tbody>\n",
       "</table>\n",
       "</div>"
      ],
      "text/plain": [
       "                   High          Low         Open        Close        Volume  \\\n",
       "Date                                                                           \n",
       "2020-01-31  1897.997128  1870.354289  1886.055240  1884.237613  4.033252e+06   \n",
       "2020-02-29  2094.268979  2045.056319  2065.853683  2066.175267  4.868953e+06   \n",
       "2020-03-31  1910.390004  1825.159096  1863.148626  1872.310436  7.445868e+06   \n",
       "2020-04-30  2256.839989  2185.934768  2216.111439  2228.705241  5.933800e+06   \n",
       "2020-05-31  2418.904004  2364.485498  2391.137012  2394.184021  4.129220e+06   \n",
       "\n",
       "              Adj Close  \n",
       "Date                     \n",
       "2020-01-31  1884.237613  \n",
       "2020-02-29  2066.175267  \n",
       "2020-03-31  1872.310436  \n",
       "2020-04-30  2228.705241  \n",
       "2020-05-31  2394.184021  "
      ]
     },
     "execution_count": 5,
     "metadata": {},
     "output_type": "execute_result"
    }
   ],
   "source": [
    "AMZN.head()"
   ]
  },
  {
   "cell_type": "markdown",
   "id": "89bfd967",
   "metadata": {},
   "source": [
    "# Data visualization"
   ]
  },
  {
   "cell_type": "code",
   "execution_count": 6,
   "id": "cb0dd5f9",
   "metadata": {},
   "outputs": [
    {
     "data": {
      "text/plain": [
       "<AxesSubplot:title={'center':'Closing prices from the pandemic'}, xlabel='Date'>"
      ]
     },
     "execution_count": 6,
     "metadata": {},
     "output_type": "execute_result"
    },
    {
     "data": {
      "image/png": "[encoded data removed]",
      "text/plain": [
       "<Figure size 432x288 with 1 Axes>"
      ]
     },
     "metadata": {
      "needs_background": "light"
     },
     "output_type": "display_data"
    }
   ],
   "source": [
    "combined_series = pd.concat([AMZN['Adj Close'],\n",
    "                            AAPL['Adj Close'],\n",
    "                            GOOG['Adj Close']\n",
    "                            ],axis = 1)\n",
    "\n",
    "combined_series.columns = [\"AMZN\",\"AAPL\",\"GOOG\"]\n",
    "\n",
    "combined_series.plot(grid=True, subplots= False, title=\"Closing prices from the pandemic\")"
   ]
  },
  {
   "cell_type": "code",
   "execution_count": null,
   "id": "332fd707",
   "metadata": {},
   "outputs": [],
   "source": []
  }
 ],
 "metadata": {
  "kernelspec": {
   "display_name": "Python 3 (ipykernel)",
   "language": "python",
   "name": "python3"
  },
  "language_info": {
   "codemirror_mode": {
    "name": "ipython",
    "version": 3
   },
   "file_extension": ".py",
   "mimetype": "text/x-python",
   "name": "python",
   "nbconvert_exporter": "python",
   "pygments_lexer": "ipython3",
   "version": "3.9.7"
  }
 },
 "nbformat": 4,
 "nbformat_minor": 5
}
